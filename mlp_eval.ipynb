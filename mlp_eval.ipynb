{
  "nbformat": 4,
  "nbformat_minor": 0,
  "metadata": {
    "colab": {
      "provenance": []
    },
    "kernelspec": {
      "name": "python3",
      "display_name": "Python 3"
    },
    "language_info": {
      "name": "python"
    },
    "accelerator": "GPU",
    "gpuClass": "standard"
  },
  "cells": [
    {
      "cell_type": "markdown",
      "source": [
        "# MLP Evaluation"
      ],
      "metadata": {
        "id": "1jea-isHYtC0"
      }
    },
    {
      "cell_type": "code",
      "execution_count": 1,
      "metadata": {
        "colab": {
          "base_uri": "https://localhost:8080/"
        },
        "id": "2odBGjyNYm2g",
        "outputId": "eec9d937-c6ed-4fc8-a3d8-b206a245bb4b"
      },
      "outputs": [
        {
          "output_type": "stream",
          "name": "stdout",
          "text": [
            "Mounted at /content/drive\n"
          ]
        }
      ],
      "source": [
        "from google.colab import drive\n",
        "drive.mount('/content/drive')\n",
        "file = r'/content/drive/MyDrive/Colab/mlp-mcr/dataset.csv'"
      ]
    },
    {
      "cell_type": "code",
      "source": [
        "import pandas as pd\n",
        "import numpy as np\n",
        "\n",
        "df = pd.read_csv(file)\n",
        "\n",
        "# dataset\n",
        "dataset = df.values\n",
        "X = dataset[:, 6] # mt column\n",
        "Y = dataset[:, 5] # mcr column"
      ],
      "metadata": {
        "id": "P1pzjYPBY_4k"
      },
      "execution_count": 2,
      "outputs": []
    },
    {
      "cell_type": "code",
      "source": [
        "from sklearn.model_selection import train_test_split\n",
        "X = X.reshape(-1, 1)\n",
        "\n",
        "# split\n",
        "X_train, X_test, Y_train, Y_test = train_test_split(X, Y, test_size=0.2, random_state=42)\n",
        "\n",
        "X_train, X_val, Y_train, Y_val = train_test_split(X_train, Y_train, test_size=0.2, random_state=42)\n",
        "\n",
        "# size\n",
        "print(\"Train: \", X_train.shape)\n",
        "print(\"Val: \", X_val.shape)\n",
        "print(\"Test: \", X_test.shape)"
      ],
      "metadata": {
        "id": "8c1GklxqZKPK",
        "colab": {
          "base_uri": "https://localhost:8080/"
        },
        "outputId": "20985e2f-2c1f-4e1c-bd79-e9ee2c476b8b"
      },
      "execution_count": 3,
      "outputs": [
        {
          "output_type": "stream",
          "name": "stdout",
          "text": [
            "Train:  (115196, 1)\n",
            "Val:  (28800, 1)\n",
            "Test:  (36000, 1)\n"
          ]
        }
      ]
    },
    {
      "cell_type": "markdown",
      "source": [
        "Building MLP Neural Net with PyTorch"
      ],
      "metadata": {
        "id": "rI-BVuWm1I23"
      }
    },
    {
      "cell_type": "code",
      "source": [
        "import torch\n",
        "import torch.nn as nn\n",
        "import torch.optim as optim"
      ],
      "metadata": {
        "id": "1nkjO2vBl3Pq"
      },
      "execution_count": 4,
      "outputs": []
    },
    {
      "cell_type": "markdown",
      "source": [
        "MLP Model"
      ],
      "metadata": {
        "id": "DGAi4xRa1dot"
      }
    },
    {
      "cell_type": "code",
      "source": [
        "class mlp(nn.Module):\n",
        "    def __init__(self):\n",
        "        super(mlp, self).__init__()\n",
        "        self.layers = nn.Sequential(\n",
        "            nn.Linear(1, 100),\n",
        "            nn.Linear(100, 1)\n",
        "        )\n",
        "\n",
        "    def forward(self, x):\n",
        "        return self.layers(x)\n",
        "\n",
        "mlp_pytorch = mlp()"
      ],
      "metadata": {
        "id": "JxobVB1FyPoI"
      },
      "execution_count": 5,
      "outputs": []
    },
    {
      "cell_type": "markdown",
      "source": [
        "Optimizer"
      ],
      "metadata": {
        "id": "FMqxJ9d11YTI"
      }
    },
    {
      "cell_type": "code",
      "source": [
        "optimizer = optim.Adam(mlp_pytorch.parameters(), lr=0.001)"
      ],
      "metadata": {
        "id": "AeoAkFQVyt5p"
      },
      "execution_count": 6,
      "outputs": []
    },
    {
      "cell_type": "markdown",
      "source": [
        "Loss Func"
      ],
      "metadata": {
        "id": "5cLPJ6Rm1Zds"
      }
    },
    {
      "cell_type": "code",
      "source": [
        "criterion = nn.L1Loss()"
      ],
      "metadata": {
        "id": "9CiL0PppzMSw"
      },
      "execution_count": 7,
      "outputs": []
    },
    {
      "cell_type": "markdown",
      "source": [
        "Converting data types to float32 tensors"
      ],
      "metadata": {
        "id": "B2mB5NFG1v_e"
      }
    },
    {
      "cell_type": "code",
      "source": [
        "X_train = torch.tensor(X_train.astype(np.float32))\n",
        "Y_train = torch.tensor(Y_train.astype(np.float32))\n",
        "X_val = torch.tensor(X_val.astype(np.float32))\n",
        "Y_val = torch.tensor(Y_val.astype(np.float32))\n",
        "X_test = torch.tensor(X_test.astype(np.float32))\n",
        "Y_test = torch.tensor(Y_test.astype(np.float32))"
      ],
      "metadata": {
        "id": "UvPme5lG1yi-"
      },
      "execution_count": 8,
      "outputs": []
    },
    {
      "cell_type": "markdown",
      "source": [
        "Data Loader"
      ],
      "metadata": {
        "id": "16tswqs6p5O3"
      }
    },
    {
      "cell_type": "code",
      "source": [
        "from torch.utils.data import TensorDataset, DataLoader\n",
        "\n",
        "train_dataset = TensorDataset(X_train, Y_train)\n",
        "\n",
        "train_loader = DataLoader(train_dataset, batch_size=64, shuffle=True)"
      ],
      "metadata": {
        "id": "yRxrmw5gr1Ie"
      },
      "execution_count": 9,
      "outputs": []
    },
    {
      "cell_type": "markdown",
      "source": [
        "Training Loop"
      ],
      "metadata": {
        "id": "dy7EdC3rtKED"
      }
    },
    {
      "cell_type": "code",
      "source": [
        "epochs = 50\n",
        "losses = []\n",
        "\n",
        "for epoch in range(epochs):\n",
        "    mlp_pytorch.train()\n",
        "    epoch_loss = 0\n",
        "\n",
        "    for input_data, target_data in train_loader:\n",
        "        \n",
        "        optimizer.zero_grad()\n",
        "        # fp\n",
        "        output = mlp_pytorch(input_data)\n",
        "        # loss\n",
        "        loss = criterion(output, target_data.view(-1, 1))\n",
        "        epoch_loss += loss.item()\n",
        "        # bp\n",
        "        loss.backward()\n",
        "        # update\n",
        "        optimizer.step()\n",
        "\n",
        "    # avg loss\n",
        "    avg_loss = epoch_loss / len(train_loader)\n",
        "    losses.append(avg_loss)\n",
        "\n",
        "    # print\n",
        "    if epoch % 1 == 0:\n",
        "        print(\"Epoch [{}/{}], Loss: {:.4f}\".format(epoch, epochs, avg_loss))"
      ],
      "metadata": {
        "colab": {
          "base_uri": "https://localhost:8080/"
        },
        "id": "a8Kr2EsStL7M",
        "outputId": "3c2a9243-10f0-439e-d793-76c685bc8d54"
      },
      "execution_count": 10,
      "outputs": [
        {
          "output_type": "stream",
          "name": "stdout",
          "text": [
            "Epoch [0/50], Loss: 9.8874\n",
            "Epoch [1/50], Loss: 9.7885\n",
            "Epoch [2/50], Loss: 9.8044\n",
            "Epoch [3/50], Loss: 9.7780\n",
            "Epoch [4/50], Loss: 9.7848\n",
            "Epoch [5/50], Loss: 9.7781\n",
            "Epoch [6/50], Loss: 9.7671\n",
            "Epoch [7/50], Loss: 9.8304\n",
            "Epoch [8/50], Loss: 9.7591\n",
            "Epoch [9/50], Loss: 9.7435\n",
            "Epoch [10/50], Loss: 9.7421\n",
            "Epoch [11/50], Loss: 9.7491\n",
            "Epoch [12/50], Loss: 9.6913\n",
            "Epoch [13/50], Loss: 9.7105\n",
            "Epoch [14/50], Loss: 9.7054\n",
            "Epoch [15/50], Loss: 9.6951\n",
            "Epoch [16/50], Loss: 9.6812\n",
            "Epoch [17/50], Loss: 9.6986\n",
            "Epoch [18/50], Loss: 9.6827\n",
            "Epoch [19/50], Loss: 9.6568\n",
            "Epoch [20/50], Loss: 9.6532\n",
            "Epoch [21/50], Loss: 9.6612\n",
            "Epoch [22/50], Loss: 9.6472\n",
            "Epoch [23/50], Loss: 9.6443\n",
            "Epoch [24/50], Loss: 9.6616\n",
            "Epoch [25/50], Loss: 9.6423\n",
            "Epoch [26/50], Loss: 9.6400\n",
            "Epoch [27/50], Loss: 9.6318\n",
            "Epoch [28/50], Loss: 9.6274\n",
            "Epoch [29/50], Loss: 9.6397\n",
            "Epoch [30/50], Loss: 9.6341\n",
            "Epoch [31/50], Loss: 9.6254\n",
            "Epoch [32/50], Loss: 9.6357\n",
            "Epoch [33/50], Loss: 9.6271\n",
            "Epoch [34/50], Loss: 9.6230\n",
            "Epoch [35/50], Loss: 9.6328\n",
            "Epoch [36/50], Loss: 9.6341\n",
            "Epoch [37/50], Loss: 9.6345\n",
            "Epoch [38/50], Loss: 9.6355\n",
            "Epoch [39/50], Loss: 9.6413\n",
            "Epoch [40/50], Loss: 9.6304\n",
            "Epoch [41/50], Loss: 9.6287\n",
            "Epoch [42/50], Loss: 9.6200\n",
            "Epoch [43/50], Loss: 9.6340\n",
            "Epoch [44/50], Loss: 9.6213\n",
            "Epoch [45/50], Loss: 9.6327\n",
            "Epoch [46/50], Loss: 9.6211\n",
            "Epoch [47/50], Loss: 9.6432\n",
            "Epoch [48/50], Loss: 9.6211\n",
            "Epoch [49/50], Loss: 9.6164\n"
          ]
        }
      ]
    },
    {
      "cell_type": "markdown",
      "source": [
        "Loss Curve"
      ],
      "metadata": {
        "id": "LlOty1Itxyho"
      }
    },
    {
      "cell_type": "code",
      "source": [
        "import matplotlib.pyplot as plt\n",
        "\n",
        "plt.plot(losses)\n",
        "plt.xlabel(\"Epoch\")\n",
        "plt.ylabel(\"Loss\")\n",
        "plt.title(\"Training Loss Curve\")\n",
        "plt.show()"
      ],
      "metadata": {
        "colab": {
          "base_uri": "https://localhost:8080/",
          "height": 472
        },
        "id": "T5t0uVP9x0Ws",
        "outputId": "81d11c2b-8f4b-477d-bdb2-4aca924f3049"
      },
      "execution_count": 11,
      "outputs": [
        {
          "output_type": "display_data",
          "data": {
            "text/plain": [
              "<Figure size 640x480 with 1 Axes>"
            ],
            "image/png": "[encoded data removed]"
          },
          "metadata": {}
        }
      ]
    }
  ]
}