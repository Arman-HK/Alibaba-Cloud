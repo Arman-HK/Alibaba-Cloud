{
  "nbformat": 4,
  "nbformat_minor": 0,
  "metadata": {
    "colab": {
      "provenance": []
    },
    "kernelspec": {
      "name": "python3",
      "display_name": "Python 3"
    },
    "language_info": {
      "name": "python"
    },
    "accelerator": "GPU",
    "gpuClass": "standard"
  },
  "cells": [
    {
      "cell_type": "markdown",
      "source": [
        "# MLP Evaluation"
      ],
      "metadata": {
        "id": "1jea-isHYtC0"
      }
    },
    {
      "cell_type": "code",
      "execution_count": 1,
      "metadata": {
        "colab": {
          "base_uri": "https://localhost:8080/"
        },
        "id": "2odBGjyNYm2g",
        "outputId": "20e3d6c4-2d21-41d0-a9cc-aabd9ca80c14"
      },
      "outputs": [
        {
          "output_type": "stream",
          "name": "stdout",
          "text": [
            "Drive already mounted at /content/drive; to attempt to forcibly remount, call drive.mount(\"/content/drive\", force_remount=True).\n"
          ]
        }
      ],
      "source": [
        "from google.colab import drive\n",
        "drive.mount('/content/drive')\n",
        "file = r'/content/drive/MyDrive/Colab/mlp-mcr/dataset.csv'"
      ]
    },
    {
      "cell_type": "code",
      "source": [
        "import pandas as pd\n",
        "import numpy as np\n",
        "\n",
        "df = pd.read_csv(file)\n",
        "\n",
        "# dataset\n",
        "dataset = df.values\n",
        "X = dataset[:, 6] # mt column\n",
        "Y = dataset[:, 5] # mcr column"
      ],
      "metadata": {
        "id": "P1pzjYPBY_4k"
      },
      "execution_count": 2,
      "outputs": []
    },
    {
      "cell_type": "code",
      "source": [
        "from sklearn.model_selection import train_test_split\n",
        "X = X.reshape(-1, 1)\n",
        "\n",
        "# split\n",
        "X_train, X_test, Y_train, Y_test = train_test_split(X, Y, test_size=0.2, random_state=42)\n",
        "\n",
        "X_train, X_val, Y_train, Y_val = train_test_split(X_train, Y_train, test_size=0.2, random_state=42)\n",
        "\n",
        "# size\n",
        "print(\"Train: \", X_train.shape)\n",
        "print(\"Val: \", X_val.shape)\n",
        "print(\"Test: \", X_test.shape)"
      ],
      "metadata": {
        "id": "8c1GklxqZKPK",
        "colab": {
          "base_uri": "https://localhost:8080/"
        },
        "outputId": "394565d9-ff4d-47fb-863c-86bf0ac0af56"
      },
      "execution_count": 3,
      "outputs": [
        {
          "output_type": "stream",
          "name": "stdout",
          "text": [
            "Train:  (115196, 1)\n",
            "Val:  (28800, 1)\n",
            "Test:  (36000, 1)\n"
          ]
        }
      ]
    },
    {
      "cell_type": "markdown",
      "source": [
        "Building MLP Neural Net with PyTorch"
      ],
      "metadata": {
        "id": "rI-BVuWm1I23"
      }
    },
    {
      "cell_type": "code",
      "source": [
        "import torch\n",
        "import torch.nn as nn\n",
        "import torch.optim as optim"
      ],
      "metadata": {
        "id": "1nkjO2vBl3Pq"
      },
      "execution_count": 4,
      "outputs": []
    },
    {
      "cell_type": "markdown",
      "source": [
        "MLP Model"
      ],
      "metadata": {
        "id": "DGAi4xRa1dot"
      }
    },
    {
      "cell_type": "code",
      "source": [
        "class mlp(nn.Module):\n",
        "    def __init__(self):\n",
        "        super(mlp, self).__init__()\n",
        "        self.layers = nn.Sequential(\n",
        "            nn.Linear(1, 100),\n",
        "            nn.ReLU(),\n",
        "            nn.Linear(100, 100),\n",
        "            nn.ReLU(),\n",
        "            nn.Linear(100, 100),\n",
        "            nn.ReLU(),\n",
        "            nn.Linear(100, 1)\n",
        "        )\n",
        "\n",
        "    def forward(self, x):\n",
        "        return self.layers(x)\n",
        "\n",
        "mlp_pytorch = mlp()"
      ],
      "metadata": {
        "id": "JxobVB1FyPoI"
      },
      "execution_count": 5,
      "outputs": []
    },
    {
      "cell_type": "markdown",
      "source": [
        "Optimizer"
      ],
      "metadata": {
        "id": "FMqxJ9d11YTI"
      }
    },
    {
      "cell_type": "code",
      "source": [
        "optimizer = optim.Adam(mlp_pytorch.parameters(), lr=0.4)"
      ],
      "metadata": {
        "id": "AeoAkFQVyt5p"
      },
      "execution_count": 6,
      "outputs": []
    },
    {
      "cell_type": "markdown",
      "source": [
        "Loss Func"
      ],
      "metadata": {
        "id": "5cLPJ6Rm1Zds"
      }
    },
    {
      "cell_type": "code",
      "source": [
        "criterion = nn.L1Loss()"
      ],
      "metadata": {
        "id": "9CiL0PppzMSw"
      },
      "execution_count": 7,
      "outputs": []
    },
    {
      "cell_type": "markdown",
      "source": [
        "Converting data types to float32 tensors"
      ],
      "metadata": {
        "id": "B2mB5NFG1v_e"
      }
    },
    {
      "cell_type": "code",
      "source": [
        "X_train = torch.tensor(X_train.astype(np.float32))\n",
        "Y_train = torch.tensor(Y_train.astype(np.float32))\n",
        "X_val = torch.tensor(X_val.astype(np.float32))\n",
        "Y_val = torch.tensor(Y_val.astype(np.float32))\n",
        "X_test = torch.tensor(X_test.astype(np.float32))\n",
        "Y_test = torch.tensor(Y_test.astype(np.float32))"
      ],
      "metadata": {
        "id": "UvPme5lG1yi-"
      },
      "execution_count": 8,
      "outputs": []
    },
    {
      "cell_type": "markdown",
      "source": [
        "Data Loader"
      ],
      "metadata": {
        "id": "16tswqs6p5O3"
      }
    },
    {
      "cell_type": "code",
      "source": [
        "from torch.utils.data import TensorDataset, DataLoader\n",
        "\n",
        "train_dataset = TensorDataset(X_train, Y_train)\n",
        "\n",
        "train_loader = DataLoader(train_dataset, batch_size=64, shuffle=True)"
      ],
      "metadata": {
        "id": "yRxrmw5gr1Ie"
      },
      "execution_count": 9,
      "outputs": []
    },
    {
      "cell_type": "markdown",
      "source": [
        "Training Loop"
      ],
      "metadata": {
        "id": "dy7EdC3rtKED"
      }
    },
    {
      "cell_type": "code",
      "source": [
        "epochs = 50\n",
        "losses = []\n",
        "\n",
        "for epoch in range(epochs):\n",
        "    mlp_pytorch.train()\n",
        "    epoch_loss = 0\n",
        "\n",
        "    for input_data, target_data in train_loader:\n",
        "        \n",
        "        optimizer.zero_grad()\n",
        "        # fp\n",
        "        output = mlp_pytorch(input_data)\n",
        "        # loss\n",
        "        loss = criterion(output, target_data.view(-1, 1))\n",
        "        epoch_loss += loss.item()\n",
        "        # bp\n",
        "        loss.backward()\n",
        "        # update\n",
        "        optimizer.step()\n",
        "\n",
        "    # avg loss\n",
        "    avg_loss = epoch_loss / len(train_loader)\n",
        "    losses.append(avg_loss)\n",
        "\n",
        "    # print\n",
        "    if epoch % 1 == 0:\n",
        "        print(\"Epoch [{}/{}], Loss: {:.4f}\".format(epoch, epochs, avg_loss))"
      ],
      "metadata": {
        "colab": {
          "base_uri": "https://localhost:8080/"
        },
        "id": "a8Kr2EsStL7M",
        "outputId": "e6403581-8d78-4a21-ff2c-7c16364500df"
      },
      "execution_count": 10,
      "outputs": [
        {
          "output_type": "stream",
          "name": "stdout",
          "text": [
            "Epoch [0/50], Loss: 55.4954\n",
            "Epoch [1/50], Loss: 25.2860\n",
            "Epoch [2/50], Loss: 25.2887\n",
            "Epoch [3/50], Loss: 25.2863\n",
            "Epoch [4/50], Loss: 25.2867\n",
            "Epoch [5/50], Loss: 25.2871\n",
            "Epoch [6/50], Loss: 25.2871\n",
            "Epoch [7/50], Loss: 25.2857\n",
            "Epoch [8/50], Loss: 25.2861\n",
            "Epoch [9/50], Loss: 25.2861\n",
            "Epoch [10/50], Loss: 25.2863\n",
            "Epoch [11/50], Loss: 25.2864\n",
            "Epoch [12/50], Loss: 25.2877\n",
            "Epoch [13/50], Loss: 25.2847\n",
            "Epoch [14/50], Loss: 25.2859\n",
            "Epoch [15/50], Loss: 25.2839\n",
            "Epoch [16/50], Loss: 25.2860\n",
            "Epoch [17/50], Loss: 25.2864\n",
            "Epoch [18/50], Loss: 25.2869\n",
            "Epoch [19/50], Loss: 25.2870\n",
            "Epoch [20/50], Loss: 25.2877\n",
            "Epoch [21/50], Loss: 25.2827\n",
            "Epoch [22/50], Loss: 25.2838\n",
            "Epoch [23/50], Loss: 25.2861\n",
            "Epoch [24/50], Loss: 25.2928\n",
            "Epoch [25/50], Loss: 25.2855\n",
            "Epoch [26/50], Loss: 25.2852\n",
            "Epoch [27/50], Loss: 25.2878\n",
            "Epoch [28/50], Loss: 25.2892\n",
            "Epoch [29/50], Loss: 25.2860\n",
            "Epoch [30/50], Loss: 25.2867\n",
            "Epoch [31/50], Loss: 25.2855\n",
            "Epoch [32/50], Loss: 25.2889\n",
            "Epoch [33/50], Loss: 25.2866\n",
            "Epoch [34/50], Loss: 25.2878\n",
            "Epoch [35/50], Loss: 25.2877\n",
            "Epoch [36/50], Loss: 25.2863\n",
            "Epoch [37/50], Loss: 25.2896\n",
            "Epoch [38/50], Loss: 25.2853\n",
            "Epoch [39/50], Loss: 25.2881\n",
            "Epoch [40/50], Loss: 25.2867\n",
            "Epoch [41/50], Loss: 25.2866\n",
            "Epoch [42/50], Loss: 25.2891\n",
            "Epoch [43/50], Loss: 25.2867\n",
            "Epoch [44/50], Loss: 25.2862\n",
            "Epoch [45/50], Loss: 25.2858\n",
            "Epoch [46/50], Loss: 25.2890\n",
            "Epoch [47/50], Loss: 25.2871\n",
            "Epoch [48/50], Loss: 25.2844\n",
            "Epoch [49/50], Loss: 25.2874\n"
          ]
        }
      ]
    },
    {
      "cell_type": "markdown",
      "source": [
        "Loss Curve"
      ],
      "metadata": {
        "id": "LlOty1Itxyho"
      }
    },
    {
      "cell_type": "code",
      "source": [
        "import matplotlib.pyplot as plt\n",
        "\n",
        "plt.plot(losses)\n",
        "plt.xlabel(\"Epoch\")\n",
        "plt.ylabel(\"Loss\")\n",
        "plt.title(\"Training Loss Curve\")\n",
        "plt.show()"
      ],
      "metadata": {
        "colab": {
          "base_uri": "https://localhost:8080/",
          "height": 472
        },
        "id": "T5t0uVP9x0Ws",
        "outputId": "e2378335-b9e3-48fc-c269-d8340847ac56"
      },
      "execution_count": 11,
      "outputs": [
        {
          "output_type": "display_data",
          "data": {
            "text/plain": [
              "<Figure size 640x480 with 1 Axes>"
            ],
            "image/png": "[encoded data removed]"
          },
          "metadata": {}
        }
      ]
    }
  ]
}