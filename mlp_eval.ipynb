{
  "nbformat": 4,
  "nbformat_minor": 0,
  "metadata": {
    "colab": {
      "provenance": []
    },
    "kernelspec": {
      "name": "python3",
      "display_name": "Python 3"
    },
    "language_info": {
      "name": "python"
    },
    "accelerator": "GPU",
    "gpuClass": "standard"
  },
  "cells": [
    {
      "cell_type": "markdown",
      "source": [
        "# MLP Evaluation"
      ],
      "metadata": {
        "id": "1jea-isHYtC0"
      }
    },
    {
      "cell_type": "code",
      "execution_count": null,
      "metadata": {
        "colab": {
          "base_uri": "https://localhost:8080/"
        },
        "id": "2odBGjyNYm2g",
        "outputId": "569ae38b-b96c-4dd6-febe-efeb937c6e1b"
      },
      "outputs": [
        {
          "output_type": "stream",
          "name": "stdout",
          "text": [
            "Drive already mounted at /content/drive; to attempt to forcibly remount, call drive.mount(\"/content/drive\", force_remount=True).\n"
          ]
        }
      ],
      "source": [
        "from google.colab import drive\n",
        "drive.mount('/content/drive')\n",
        "file = r'/content/drive/MyDrive/Colab/mlp-mcr/dataset.csv'"
      ]
    },
    {
      "cell_type": "code",
      "source": [
        "import pandas as pd\n",
        "import numpy as np\n",
        "\n",
        "df = pd.read_csv(file)\n",
        "\n",
        "# dataset\n",
        "dataset = df.values\n",
        "X = dataset[:, 6] # mt column\n",
        "Y = dataset[:, 5] # mcr column"
      ],
      "metadata": {
        "id": "P1pzjYPBY_4k"
      },
      "execution_count": null,
      "outputs": []
    },
    {
      "cell_type": "code",
      "source": [
        "from sklearn.model_selection import train_test_split\n",
        "X = X.reshape(-1, 1)\n",
        "\n",
        "# split\n",
        "X_train, X_test, Y_train, Y_test = train_test_split(X, Y, test_size=0.2, random_state=42)\n",
        "\n",
        "X_train, X_val, Y_train, Y_val = train_test_split(X_train, Y_train, test_size=0.2, random_state=42)\n",
        "\n",
        "# size\n",
        "print(\"Train: \", X_train.shape)\n",
        "print(\"Val: \", X_val.shape)\n",
        "print(\"Test: \", X_test.shape)"
      ],
      "metadata": {
        "id": "8c1GklxqZKPK",
        "colab": {
          "base_uri": "https://localhost:8080/"
        },
        "outputId": "716971b3-0516-469a-a6de-e8f8792ba8c8"
      },
      "execution_count": null,
      "outputs": [
        {
          "output_type": "stream",
          "name": "stdout",
          "text": [
            "Train:  (115196, 1)\n",
            "Val:  (28800, 1)\n",
            "Test:  (36000, 1)\n"
          ]
        }
      ]
    },
    {
      "cell_type": "markdown",
      "source": [
        "Building MLP Neural Net with PyTorch"
      ],
      "metadata": {
        "id": "rI-BVuWm1I23"
      }
    },
    {
      "cell_type": "code",
      "source": [
        "import torch\n",
        "import torch.nn as nn\n",
        "import torch.optim as optim"
      ],
      "metadata": {
        "id": "1nkjO2vBl3Pq"
      },
      "execution_count": null,
      "outputs": []
    },
    {
      "cell_type": "markdown",
      "source": [
        "MLP Model"
      ],
      "metadata": {
        "id": "DGAi4xRa1dot"
      }
    },
    {
      "cell_type": "code",
      "source": [
        "class mlp(nn.Module):\n",
        "    def __init__(self):\n",
        "        super(mlp, self).__init__()\n",
        "        self.layers = nn.Sequential(\n",
        "            nn.Linear(1, 5),\n",
        "            nn.ReLU(),\n",
        "            nn.Linear(5, 5),\n",
        "            nn.ReLU(),\n",
        "            nn.Linear(5, 1)\n",
        "        )\n",
        "\n",
        "    def forward(self, x):\n",
        "        return self.layers(x)\n",
        "\n",
        "mlp_pytorch = mlp()"
      ],
      "metadata": {
        "id": "JxobVB1FyPoI"
      },
      "execution_count": null,
      "outputs": []
    },
    {
      "cell_type": "markdown",
      "source": [
        "Optimizer"
      ],
      "metadata": {
        "id": "FMqxJ9d11YTI"
      }
    },
    {
      "cell_type": "code",
      "source": [
        "optimizer = optim.Adam(mlp_pytorch.parameters(), lr=0.002)"
      ],
      "metadata": {
        "id": "AeoAkFQVyt5p"
      },
      "execution_count": null,
      "outputs": []
    },
    {
      "cell_type": "markdown",
      "source": [
        "Loss Func"
      ],
      "metadata": {
        "id": "5cLPJ6Rm1Zds"
      }
    },
    {
      "cell_type": "code",
      "source": [
        "criterion = nn.L1Loss()"
      ],
      "metadata": {
        "id": "9CiL0PppzMSw"
      },
      "execution_count": null,
      "outputs": []
    },
    {
      "cell_type": "markdown",
      "source": [
        "Converting data types to float32 tensors"
      ],
      "metadata": {
        "id": "B2mB5NFG1v_e"
      }
    },
    {
      "cell_type": "code",
      "source": [
        "X_train = torch.tensor(X_train.astype(np.float32))\n",
        "Y_train = torch.tensor(Y_train.astype(np.float32))\n",
        "X_val = torch.tensor(X_val.astype(np.float32))\n",
        "Y_val = torch.tensor(Y_val.astype(np.float32))\n",
        "X_test = torch.tensor(X_test.astype(np.float32))\n",
        "Y_test = torch.tensor(Y_test.astype(np.float32))"
      ],
      "metadata": {
        "id": "UvPme5lG1yi-"
      },
      "execution_count": null,
      "outputs": []
    },
    {
      "cell_type": "markdown",
      "source": [
        "Data Loader"
      ],
      "metadata": {
        "id": "16tswqs6p5O3"
      }
    },
    {
      "cell_type": "code",
      "source": [
        "from torch.utils.data import TensorDataset, DataLoader\n",
        "\n",
        "train_dataset = TensorDataset(X_train, Y_train)\n",
        "\n",
        "train_loader = DataLoader(train_dataset, batch_size=64, shuffle=True)"
      ],
      "metadata": {
        "id": "yRxrmw5gr1Ie"
      },
      "execution_count": null,
      "outputs": []
    },
    {
      "cell_type": "markdown",
      "source": [
        "Training Loop"
      ],
      "metadata": {
        "id": "dy7EdC3rtKED"
      }
    },
    {
      "cell_type": "code",
      "source": [
        "epochs = 5\n",
        "losses = []\n",
        "\n",
        "for epoch in range(epochs):\n",
        "    mlp_pytorch.train()\n",
        "    epoch_loss = 0\n",
        "\n",
        "    for input_data, target_data in train_loader:\n",
        "\n",
        "        optimizer.zero_grad()\n",
        "        # fp\n",
        "        output = mlp_pytorch(input_data)\n",
        "        # loss\n",
        "        loss = criterion(output, target_data.view(-1, 1))\n",
        "        epoch_loss += loss.item()\n",
        "        # bp\n",
        "        loss.backward()\n",
        "        # update\n",
        "        optimizer.step()\n",
        "\n",
        "    # avg loss\n",
        "    avg_loss = epoch_loss / len(train_loader)\n",
        "    losses.append(avg_loss)\n",
        "\n",
        "    # print\n",
        "    if epoch % 1 == 0:\n",
        "        print(\"Epoch [{}/{}], Loss: {:.4f}\".format(epoch, epochs, avg_loss))"
      ],
      "metadata": {
        "colab": {
          "base_uri": "https://localhost:8080/"
        },
        "id": "a8Kr2EsStL7M",
        "outputId": "c5c653d9-6eea-4e3a-cd49-1aca672943d2"
      },
      "execution_count": null,
      "outputs": [
        {
          "output_type": "stream",
          "name": "stdout",
          "text": [
            "Epoch [0/5], Loss: 11.2105\n",
            "Epoch [1/5], Loss: 9.6033\n",
            "Epoch [2/5], Loss: 9.6044\n",
            "Epoch [3/5], Loss: 9.6101\n",
            "Epoch [4/5], Loss: 9.6137\n"
          ]
        }
      ]
    },
    {
      "cell_type": "markdown",
      "source": [
        "Loss Curve"
      ],
      "metadata": {
        "id": "LlOty1Itxyho"
      }
    },
    {
      "cell_type": "code",
      "source": [
        "import matplotlib.pyplot as plt\n",
        "\n",
        "plt.plot(losses)\n",
        "plt.xlabel(\"Epoch\")\n",
        "plt.ylabel(\"Loss\")\n",
        "plt.title(\"Training Loss Curve\")\n",
        "plt.show()"
      ],
      "metadata": {
        "colab": {
          "base_uri": "https://localhost:8080/",
          "height": 472
        },
        "id": "T5t0uVP9x0Ws",
        "outputId": "d3484cb8-7958-4f8c-fe63-d24f996471de"
      },
      "execution_count": null,
      "outputs": [
        {
          "output_type": "display_data",
          "data": {
            "text/plain": [
              "<Figure size 640x480 with 1 Axes>"
            ],
            "image/png": "[encoded data removed]"
          },
          "metadata": {}
        }
      ]
    }
  ]
}