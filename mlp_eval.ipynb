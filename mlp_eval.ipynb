{
  "nbformat": 4,
  "nbformat_minor": 0,
  "metadata": {
    "colab": {
      "provenance": []
    },
    "kernelspec": {
      "name": "python3",
      "display_name": "Python 3"
    },
    "language_info": {
      "name": "python"
    },
    "accelerator": "GPU",
    "gpuClass": "standard"
  },
  "cells": [
    {
      "cell_type": "markdown",
      "source": [
        "# MLP Evaluation"
      ],
      "metadata": {
        "id": "1jea-isHYtC0"
      }
    },
    {
      "cell_type": "code",
      "execution_count": null,
      "metadata": {
        "colab": {
          "base_uri": "https://localhost:8080/"
        },
        "id": "2odBGjyNYm2g",
        "outputId": "6b06a51a-16b2-4787-e41d-e4d8c8a3f41d"
      },
      "outputs": [
        {
          "output_type": "stream",
          "name": "stdout",
          "text": [
            "Drive already mounted at /content/drive; to attempt to forcibly remount, call drive.mount(\"/content/drive\", force_remount=True).\n"
          ]
        }
      ],
      "source": [
        "from google.colab import drive\n",
        "drive.mount('/content/drive')\n",
        "file = r'/content/drive/MyDrive/Colab/mlp-mcr/dataset.csv'"
      ]
    },
    {
      "cell_type": "code",
      "source": [
        "import pandas as pd\n",
        "import numpy as np\n",
        "\n",
        "df = pd.read_csv(file)\n",
        "\n",
        "# dataset\n",
        "dataset = df.values\n",
        "X = dataset[:, 6] # mt column\n",
        "Y = dataset[:, 5] # mcr column"
      ],
      "metadata": {
        "id": "P1pzjYPBY_4k"
      },
      "execution_count": null,
      "outputs": []
    },
    {
      "cell_type": "code",
      "source": [
        "from sklearn.model_selection import train_test_split\n",
        "X = X.reshape(-1, 1)\n",
        "\n",
        "# split\n",
        "X_train, X_test, Y_train, Y_test = train_test_split(X, Y, test_size=0.2, random_state=42)\n",
        "\n",
        "X_train, X_val, Y_train, Y_val = train_test_split(X_train, Y_train, test_size=0.2, random_state=42)\n",
        "\n",
        "# size\n",
        "print(\"Train: \", X_train.shape)\n",
        "print(\"Val: \", X_val.shape)\n",
        "print(\"Test: \", X_test.shape)"
      ],
      "metadata": {
        "colab": {
          "base_uri": "https://localhost:8080/"
        },
        "id": "8c1GklxqZKPK",
        "outputId": "0eb5682a-3d2c-4a81-f7e3-74a9fe8120c8"
      },
      "execution_count": null,
      "outputs": [
        {
          "output_type": "stream",
          "name": "stdout",
          "text": [
            "Train:  (115196, 1)\n",
            "Val:  (28800, 1)\n",
            "Test:  (36000, 1)\n"
          ]
        }
      ]
    },
    {
      "cell_type": "code",
      "source": [
        "from sklearn.neural_network import MLPRegressor\n",
        "mlp = MLPRegressor(hidden_layer_sizes=(100,100,100),\n",
        "                   activation=\"relu\",\n",
        "                   solver=\"adam\",\n",
        "                   alpha=0.001,\n",
        "                   learning_rate=\"adaptive\",\n",
        "                   learning_rate_init=0.00005,\n",
        "                   max_iter=7000)\n",
        "\n",
        "mlp.fit(X_train, Y_train)\n",
        "mlp.score(X_val, Y_val)"
      ],
      "metadata": {
        "colab": {
          "base_uri": "https://localhost:8080/"
        },
        "id": "1nkjO2vBl3Pq",
        "outputId": "a86cecb2-f630-41da-f2df-e62ee168b2c8"
      },
      "execution_count": null,
      "outputs": [
        {
          "output_type": "execute_result",
          "data": {
            "text/plain": [
              "0.6124194077952756"
            ]
          },
          "metadata": {},
          "execution_count": 10
        }
      ]
    },
    {
      "cell_type": "code",
      "source": [
        "Y_predict = mlp.predict(X_val)\n",
        "\n",
        "from sklearn.metrics import mean_absolute_percentage_error, mean_absolute_error, mean_squared_error\n",
        "mape = mean_absolute_percentage_error(Y_val, Y_predict)\n",
        "mae = mean_absolute_error(Y_val, Y_predict)\n",
        "mse = mean_squared_error(Y_val, Y_predict)\n",
        "print(\"MAPE : \", mape)\n",
        "print(\"MAE : \", mae)\n",
        "print(\"MSE : \", mse)"
      ],
      "metadata": {
        "colab": {
          "base_uri": "https://localhost:8080/"
        },
        "id": "q7bx_WS0_zld",
        "outputId": "8e12262f-78c5-470c-a8a6-a1ac8ec06839"
      },
      "execution_count": null,
      "outputs": [
        {
          "output_type": "stream",
          "name": "stdout",
          "text": [
            "MAPE :  17.17917372129427\n",
            "MAE :  12.468716027084152\n",
            "MSE :  9362.425853401948\n"
          ]
        }
      ]
    },
    {
      "cell_type": "code",
      "source": [
        "import matplotlib.pyplot as plt\n",
        "\n",
        "loss_curve = mlp.loss_curve_\n",
        "\n",
        "plt.plot(loss_curve)\n",
        "plt.xlabel(\"Iteration\")\n",
        "plt.ylabel(\"Loss\")\n",
        "plt.title(\"Loss Curve\")\n",
        "plt.show()"
      ],
      "metadata": {
        "colab": {
          "base_uri": "https://localhost:8080/",
          "height": 472
        },
        "id": "3Yrp5PHTN1yB",
        "outputId": "1492afc4-4780-45a8-c752-dc54d05c3669"
      },
      "execution_count": null,
      "outputs": [
        {
          "output_type": "display_data",
          "data": {
            "text/plain": [
              "<Figure size 640x480 with 1 Axes>"
            ],
            "image/png": "[encoded data removed]"
          },
          "metadata": {}
        }
      ]
    }
  ]
}